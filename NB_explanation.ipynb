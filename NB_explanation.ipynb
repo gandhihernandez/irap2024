{
  "nbformat": 4,
  "nbformat_minor": 0,
  "metadata": {
    "colab": {
      "provenance": []
    },
    "kernelspec": {
      "name": "python3",
      "display_name": "Python 3"
    },
    "language_info": {
      "name": "python"
    }
  },
  "cells": [
    {
      "cell_type": "code",
      "execution_count": 1,
      "metadata": {
        "id": "HhcrLSM_CaFL"
      },
      "outputs": [],
      "source": [
        "import prettytable"
      ]
    },
    {
      "cell_type": "code",
      "source": [
        "doc_class = []\n",
        "keywords = []\n",
        "i = 0\n",
        "texts = ['I watched the movie','I hated the movie','poor acting']\n",
        "classes = ['+','-','+']\n",
        "to_find = 'I hated the acting'\n",
        "for i in range(len(texts)):\n",
        "\tdoc_class.append([])\n",
        "\tdoc_class[i].append(texts[i].lower().split())\n",
        "\tdoc_class[i].append(classes[i])\n",
        "\tkeywords.extend(texts[i].lower().split())\n",
        "\ti = i+1\n",
        "keywords = set(keywords)\n",
        "keywords = list(keywords)\n",
        "keywords.sort()\n",
        "to_find = to_find.lower().split()"
      ],
      "metadata": {
        "id": "oKxN_vhRxAPW"
      },
      "execution_count": 4,
      "outputs": []
    },
    {
      "cell_type": "code",
      "source": [
        "doc_class"
      ],
      "metadata": {
        "id": "ab7zVjCzv5cS"
      },
      "execution_count": null,
      "outputs": []
    },
    {
      "cell_type": "code",
      "source": [
        "keywords"
      ],
      "metadata": {
        "id": "jLE9sHF4DEki"
      },
      "execution_count": null,
      "outputs": []
    },
    {
      "cell_type": "code",
      "source": [
        "probability_table = []\n",
        "for i in range(len(texts)):\n",
        "\tprobability_table.append([])\n",
        "\tfor j in keywords:\n",
        "\t\tprobability_table[i].append(0)\n",
        "doc_id = 1\n",
        "for i in range(len(texts)):\n",
        "\tfor k in range(len(keywords)):\n",
        "\t\tif keywords[k] in doc_class[i][0]:\n",
        "\t\t\tprobability_table[i][k] += doc_class[i][0].count(keywords[k])\n",
        "print('\\n')"
      ],
      "metadata": {
        "colab": {
          "base_uri": "https://localhost:8080/"
        },
        "id": "runbRaAE0eXT",
        "outputId": "7caec76f-7803-4971-b950-f8e61388a84e"
      },
      "execution_count": 7,
      "outputs": [
        {
          "output_type": "stream",
          "name": "stdout",
          "text": [
            "\n",
            "\n"
          ]
        }
      ]
    },
    {
      "cell_type": "code",
      "source": [
        "probability_table"
      ],
      "metadata": {
        "id": "bkQzlAsXDBjl"
      },
      "execution_count": null,
      "outputs": []
    },
    {
      "cell_type": "code",
      "source": [
        "to_find"
      ],
      "metadata": {
        "id": "zmeWOMxOFL_X"
      },
      "execution_count": null,
      "outputs": []
    },
    {
      "cell_type": "code",
      "source": [
        "probability_table_to_find = []\n",
        "for word in keywords:\n",
        "  cont = 0\n",
        "  for element in to_find:\n",
        "    if word == element:\n",
        "      cont = cont + 1\n",
        "  probability_table_to_find.append(cont)"
      ],
      "metadata": {
        "id": "bXUhy3gMqBjr"
      },
      "execution_count": 10,
      "outputs": []
    },
    {
      "cell_type": "code",
      "source": [
        "probability_table_to_find"
      ],
      "metadata": {
        "id": "Gs9axXrzqNNZ"
      },
      "execution_count": null,
      "outputs": []
    },
    {
      "cell_type": "code",
      "source": [
        "keywords.insert(0, 'Document ID')\n",
        "keywords.append(\"Class\")\n",
        "Prob_Table = prettytable.PrettyTable()\n",
        "Prob_Table.field_names = keywords\n",
        "Prob_Table.title = 'Probability of Documents'\n",
        "x = 0\n",
        "for i in probability_table:\n",
        "    i.insert(0, x+1)\n",
        "    i.append(doc_class[x][1])\n",
        "    Prob_Table.add_row(i)\n",
        "    x = x+1\n",
        "print(Prob_Table)\n",
        "print('\\n')\n",
        "for i in probability_table:\n",
        "    i.pop(0)\n",
        "totalpluswords = 0\n",
        "totalnegwords = 0\n",
        "totalplus = 0\n",
        "totalneg = 0\n",
        "vocabulary = len(keywords)-2\n",
        "for i in probability_table:\n",
        "    if i[len(i)-1] == \"+\":\n",
        "        totalplus += 1\n",
        "        totalpluswords += sum(i[0:len(i)-1])\n",
        "    else:\n",
        "        totalneg += 1\n",
        "        totalnegwords += sum(i[0:len(i)-1])\n",
        "keywords.pop(0)\n",
        "keywords.pop(len(keywords)-1)"
      ],
      "metadata": {
        "id": "nL8kZFOlDY8i"
      },
      "execution_count": null,
      "outputs": []
    },
    {
      "cell_type": "code",
      "source": [
        "#totalplus = number of positive sentences\n",
        "#totalneg = number of negative sentences\n",
        "print(totalplus)\n",
        "print(totalneg)"
      ],
      "metadata": {
        "id": "kEOuKwCC0cbr"
      },
      "execution_count": null,
      "outputs": []
    },
    {
      "cell_type": "code",
      "source": [
        "print(totalpluswords)\n",
        "print(totalnegwords)"
      ],
      "metadata": {
        "id": "o2cS9zwSS6_7"
      },
      "execution_count": null,
      "outputs": []
    },
    {
      "cell_type": "code",
      "source": [
        "probability_table"
      ],
      "metadata": {
        "id": "l-QAT0YAt0Nv"
      },
      "execution_count": null,
      "outputs": []
    },
    {
      "cell_type": "code",
      "source": [
        "to_find"
      ],
      "metadata": {
        "id": "ioNqMAHQEeJ5"
      },
      "execution_count": null,
      "outputs": []
    },
    {
      "cell_type": "code",
      "source": [
        "# For positive class\n",
        "temp = []\n",
        "for i in to_find:\n",
        "    count = 0\n",
        "    x = keywords.index(i)\n",
        "    for j in probability_table:\n",
        "        if j[len(j)-1] == \"+\":\n",
        "            count = count+j[x]\n",
        "    temp.append(count)\n",
        "    count = 0"
      ],
      "metadata": {
        "id": "KXZ4FHxq3BQb"
      },
      "execution_count": 21,
      "outputs": []
    },
    {
      "cell_type": "code",
      "source": [
        "temp #[i,hated,the,acting] = [+,-,+,+] = [1,0,1,1]"
      ],
      "metadata": {
        "id": "9bL-kr_B13vg"
      },
      "execution_count": null,
      "outputs": []
    },
    {
      "cell_type": "markdown",
      "source": [
        "# Individual word"
      ],
      "metadata": {
        "id": "K69uw10p4dfc"
      }
    },
    {
      "cell_type": "code",
      "source": [
        "i=1\n",
        "print(to_find[i]) #the second word\n",
        "print(temp[i])\n",
        "print(temp[i]+1)\n",
        "print(vocabulary+totalpluswords)"
      ],
      "metadata": {
        "id": "FVTOUCgdLF6-"
      },
      "execution_count": null,
      "outputs": []
    },
    {
      "cell_type": "code",
      "source": [
        "temp[i] = format((temp[i]+1)/(vocabulary+totalpluswords), \".4f\")\n",
        "temp[i]"
      ],
      "metadata": {
        "id": "qtzEe0JaLT4Z"
      },
      "execution_count": null,
      "outputs": []
    },
    {
      "cell_type": "code",
      "source": [
        "1/13"
      ],
      "metadata": {
        "id": "ExWzJwtT5Ioy"
      },
      "execution_count": null,
      "outputs": []
    },
    {
      "cell_type": "markdown",
      "source": [
        "# All the words in to_find sentence"
      ],
      "metadata": {
        "id": "9lK2n0AT7Akc"
      }
    },
    {
      "cell_type": "code",
      "source": [
        "# For positive class\n",
        "temp = []\n",
        "for i in to_find:\n",
        "    count = 0\n",
        "    x = keywords.index(i)\n",
        "    for j in probability_table:\n",
        "        if j[len(j)-1] == \"+\":\n",
        "            count = count+j[x]\n",
        "    temp.append(count)\n",
        "    count = 0"
      ],
      "metadata": {
        "id": "OzOgfFsQ7MfL"
      },
      "execution_count": 27,
      "outputs": []
    },
    {
      "cell_type": "code",
      "source": [
        "for i in range(len(temp)):\n",
        "    temp[i] = format((temp[i]+1)/(vocabulary+totalpluswords), \".4f\")"
      ],
      "metadata": {
        "id": "0IprhmF33BWo"
      },
      "execution_count": 28,
      "outputs": []
    },
    {
      "cell_type": "code",
      "source": [
        "temp"
      ],
      "metadata": {
        "id": "Yy4s0Eby3BlE"
      },
      "execution_count": null,
      "outputs": []
    },
    {
      "cell_type": "markdown",
      "source": [
        "# The probabilities of each word to be in '+' class"
      ],
      "metadata": {
        "id": "9HhYsvA57Rvc"
      }
    },
    {
      "cell_type": "code",
      "source": [
        "temp = [float(f) for f in temp]\n",
        "print(\"Probabilities of Each word to be in '+' class are: \")\n",
        "h = 0\n",
        "for i in to_find:\n",
        "    print(f\"P({i}/+) = {temp[h]}\")\n",
        "    h = h+1"
      ],
      "metadata": {
        "id": "ejJ3FSPI3jSm"
      },
      "execution_count": null,
      "outputs": []
    },
    {
      "cell_type": "markdown",
      "source": [
        "# Probability of sentence to be in the '+' class"
      ],
      "metadata": {
        "id": "Z_QcHwa075cg"
      }
    },
    {
      "cell_type": "code",
      "source": [
        "pplus = float(format((totalplus)/(totalplus+totalneg), \".8f\"))\n",
        "pplus"
      ],
      "metadata": {
        "id": "8NOhqhFK3jVv"
      },
      "execution_count": null,
      "outputs": []
    },
    {
      "cell_type": "code",
      "source": [
        "temp"
      ],
      "metadata": {
        "id": "ZkqtpQ1s8LTF"
      },
      "execution_count": null,
      "outputs": []
    },
    {
      "cell_type": "code",
      "source": [
        "for i in temp:\n",
        "    print(i,' * ',pplus)\n",
        "    pplus = pplus*i\n",
        "    print(pplus)\n",
        "pplus = format(pplus, \".8f\")\n",
        "print(\"probability of Given text to be in '+' class is :\", pplus)"
      ],
      "metadata": {
        "id": "7dDYlfGK32aN"
      },
      "execution_count": null,
      "outputs": []
    },
    {
      "cell_type": "markdown",
      "source": [
        "# All together"
      ],
      "metadata": {
        "id": "Isk_tZhr8Wfg"
      }
    },
    {
      "cell_type": "code",
      "source": [
        "# For positive class\n",
        "temp = []\n",
        "for i in to_find:\n",
        "    count = 0\n",
        "    x = keywords.index(i)\n",
        "    for j in probability_table:\n",
        "        if j[len(j)-1] == \"+\":\n",
        "            count = count+j[x]\n",
        "    temp.append(count)\n",
        "    count = 0\n",
        "for i in range(len(temp)):\n",
        "    temp[i] = format((temp[i]+1)/(vocabulary+totalpluswords), \".4f\")\n",
        "print()\n",
        "temp = [float(f) for f in temp]\n",
        "print(\"Probabilities of Each word to be in '+' class are: \")\n",
        "h = 0\n",
        "for i in to_find:\n",
        "    print(f\"P({i}/+) = {temp[h]}\")\n",
        "    h = h+1\n",
        "print()\n",
        "pplus = float(format((totalplus)/(totalplus+totalneg), \".8f\"))\n",
        "for i in temp:\n",
        "    pplus = pplus*i\n",
        "pplus = format(pplus, \".8f\")\n",
        "print(\"probability of Given text to be in '+' class is :\", pplus)\n",
        "print()"
      ],
      "metadata": {
        "id": "oVU5N32oD9n1"
      },
      "execution_count": null,
      "outputs": []
    },
    {
      "cell_type": "code",
      "source": [
        "# For Negative class\n",
        "temp = []\n",
        "for i in to_find:\n",
        "    count = 0\n",
        "    x = keywords.index(i)\n",
        "    for j in probability_table:\n",
        "        if j[len(j)-1] == \"-\":\n",
        "            count = count+j[x]\n",
        "    temp.append(count)\n",
        "    count = 0\n",
        "for i in range(len(temp)):\n",
        "    temp[i] = format((temp[i]+1)/(vocabulary+totalnegwords), \".4f\")\n",
        "print()\n",
        "temp = [float(f) for f in temp]\n",
        "print(\"Probabilities of Each word to be in '-' class are: \")\n",
        "h = 0\n",
        "for i in to_find:\n",
        "    print(f\"P({i}/-) = {temp[h]}\")\n",
        "    h = h+1\n",
        "print()\n",
        "pneg = float(format((totalneg)/(totalplus+totalneg), \".8f\"))\n",
        "for i in temp:\n",
        "    pneg = pneg*i\n",
        "pneg = format(pneg, \".8f\")\n",
        "print(\"probability of Given text to be in '-' class is :\", pneg)\n",
        "print('\\n')"
      ],
      "metadata": {
        "id": "MJRAp2XP676c"
      },
      "execution_count": null,
      "outputs": []
    },
    {
      "cell_type": "code",
      "source": [
        "if pplus > pneg:\n",
        "    print(\n",
        "        f\"Using Naive Bayes Classification, We can clearly say that the given text belongs to '+' class with probability {pplus}\")\n",
        "else:\n",
        "    print(\n",
        "        f\"Using Naive Bayes Classification, We can clearly say that the given text belongs to '-' class with probability {pneg}\")\n",
        "print('\\n')"
      ],
      "metadata": {
        "id": "XyobF6Ou7GaN"
      },
      "execution_count": null,
      "outputs": []
    }
  ]
}