{
  "nbformat": 4,
  "nbformat_minor": 0,
  "metadata": {
    "colab": {
      "provenance": []
    },
    "kernelspec": {
      "name": "python3",
      "display_name": "Python 3"
    },
    "language_info": {
      "name": "python"
    }
  },
  "cells": [
    {
      "cell_type": "markdown",
      "source": [
        "# Text Naive Bayes Classification\n",
        "\n",
        "In this code notebook we will train a Naive Bayes Classifier to automatically\n",
        "recognize good comments and bad comments about a selected subject.\n",
        "\n",
        "\n",
        "\n",
        "**Figure 1** . Supervised Classification. (a) During training, a feature extractor is used to convert each input value to a feature set. These feature sets, which capture the basic information about each input that should be used to classify it. Pairs of feature sets and labels are fed into the machine learning algorithm to generate a model. (b) During prediction, the same feature extractor is used to convert unseen inputs to feature sets. These feature sets are then fed into the model, which generates predicted labels (figure extracted from www.nltk.org/book/ch06.html).\n",
        "<img src=\"https://www.nltk.org/images/supervised-classification.png\">\n",
        "\n",
        "\n",
        "\n",
        "\n",
        "Created by [Alejandro Molina](https://www.centrogeo.org.mx/areas-profile/amolina) on April 14,  2022 and adapted by [Gandhi Hernández](https://www.centrogeo.org.mx/areas-profile/ghernandez) May 15, 2024"
      ],
      "metadata": {
        "id": "PrUaF7GmFyXW"
      }
    },
    {
      "cell_type": "markdown",
      "source": [
        "## STAGE 1 Preparation\n"
      ],
      "metadata": {
        "id": "xo1hFZfBHYZ7"
      }
    },
    {
      "cell_type": "code",
      "source": [
        "# import libraries\n",
        "from google.colab import drive\n",
        "import pandas as pd\n",
        "import nltk\n",
        "nltk.download('punkt')\n",
        "from textblob.classifiers import NaiveBayesClassifier"
      ],
      "metadata": {
        "id": "qWa527KNIcng"
      },
      "execution_count": null,
      "outputs": []
    },
    {
      "cell_type": "code",
      "source": [
        "# mount the drive\n",
        "drive.mount('/content/drive/')\n"
      ],
      "metadata": {
        "id": "rUHiG3cdHH-D"
      },
      "execution_count": null,
      "outputs": []
    },
    {
      "cell_type": "code",
      "source": [
        "%cd '/content/drive/MyDrive/CentroGeo/Eventos/IRAP_2024'"
      ],
      "metadata": {
        "id": "xvb_qukC99MQ"
      },
      "execution_count": null,
      "outputs": []
    },
    {
      "cell_type": "code",
      "source": [
        "# Data from kaggle Sentiment Analysis of Restaurant Reviews\n",
        "# https://www.kaggle.com/code/apekshakom/sentiment-analysis-of-restaurant-reviews/\n",
        "\n",
        "# THIS IS  FOR TSV DATA\n",
        "df = pd.read_csv('Restaurant_Reviews.tsv',\n",
        "                 sep='\\t',\n",
        "                 engine='python')"
      ],
      "metadata": {
        "id": "B-1gzlaJ5wef"
      },
      "execution_count": null,
      "outputs": []
    },
    {
      "cell_type": "code",
      "source": [
        "df.head()"
      ],
      "metadata": {
        "id": "8mwKqEb-43UR"
      },
      "execution_count": null,
      "outputs": []
    },
    {
      "cell_type": "code",
      "source": [
        "len(df)"
      ],
      "metadata": {
        "id": "XdmD4q2Y5ZEX",
        "collapsed": true
      },
      "execution_count": null,
      "outputs": []
    },
    {
      "cell_type": "code",
      "source": [
        "texts = df['Review'].tolist()\n",
        "classes = df['Liked'].tolist()"
      ],
      "metadata": {
        "id": "uoIi2NaW56OV"
      },
      "execution_count": null,
      "outputs": []
    },
    {
      "cell_type": "code",
      "source": [
        "texts[0:5]"
      ],
      "metadata": {
        "id": "H2pXAJhF5TWn"
      },
      "execution_count": null,
      "outputs": []
    },
    {
      "cell_type": "code",
      "source": [
        "classes[0:5]"
      ],
      "metadata": {
        "id": "WG9R_Gwo6zYF",
        "collapsed": true
      },
      "execution_count": null,
      "outputs": []
    },
    {
      "cell_type": "code",
      "source": [
        "uniques = set(classes)\n",
        "uniques"
      ],
      "metadata": {
        "id": "A1c8IY057J3m",
        "collapsed": true
      },
      "execution_count": null,
      "outputs": []
    },
    {
      "cell_type": "markdown",
      "source": [
        "# Now we are going to separate the positive and the negative reviews"
      ],
      "metadata": {
        "id": "njfD2fz85hLA"
      }
    },
    {
      "cell_type": "code",
      "source": [
        "positive = []\n",
        "negative = []"
      ],
      "metadata": {
        "id": "SXi1C6Ao71NH"
      },
      "execution_count": null,
      "outputs": []
    },
    {
      "cell_type": "markdown",
      "source": [
        "# We will iterate trough the dataframe row by row and, if the Liked column is 1 then we will put the review in the positive list, and if the Liked column is 0 then we will put the review in the negative list"
      ],
      "metadata": {
        "id": "NxUraYiF540_"
      }
    },
    {
      "cell_type": "code",
      "source": [
        "for index, row in df.iterrows():\n",
        "  text = row['Review']\n",
        "  label = row['Liked']\n",
        "  if label == 1:\n",
        "    positive.append(text)\n",
        "  else:\n",
        "    negative.append(text)"
      ],
      "metadata": {
        "id": "pXmhRl-M6O19"
      },
      "execution_count": null,
      "outputs": []
    },
    {
      "cell_type": "code",
      "source": [
        "positive[:5]"
      ],
      "metadata": {
        "id": "SdBGs7rm7soI"
      },
      "execution_count": null,
      "outputs": []
    },
    {
      "cell_type": "code",
      "source": [
        "negative[:5]"
      ],
      "metadata": {
        "id": "5mW8CGeP70DU"
      },
      "execution_count": null,
      "outputs": []
    },
    {
      "cell_type": "markdown",
      "source": [
        "## STAGE 2 Preprocesing\n"
      ],
      "metadata": {
        "id": "ew4l5hy87qwD"
      }
    },
    {
      "cell_type": "markdown",
      "source": [
        "# For the preprocessing stage we need to clean the text, so it is necessary to remove the stopwords."
      ],
      "metadata": {
        "id": "hp3NW7kc6-1x"
      }
    },
    {
      "cell_type": "code",
      "source": [
        "# From Oracle Text Stoplists for English\n",
        "# https://docs.oracle.com/cd/B19306_01/text.102/b14218/astopsup.htm#i634475\n",
        "\n",
        "with open('english_stoplist.txt','r') as f:\n",
        "    lines = f.readlines()\n",
        "    stopwords = [l.strip('\\n') for l in lines]"
      ],
      "metadata": {
        "id": "-8vFKQGdI8QE"
      },
      "execution_count": null,
      "outputs": []
    },
    {
      "cell_type": "code",
      "source": [
        "stopwords[0:10]"
      ],
      "metadata": {
        "id": "4rHchOvR7X_x"
      },
      "execution_count": null,
      "outputs": []
    },
    {
      "cell_type": "markdown",
      "source": [
        "The labeled_tuples function takes a list of senteces and the label for each one as arguments (parameters) and assign the label to the sentence"
      ],
      "metadata": {
        "id": "Jz_Rg2Ly68DN"
      }
    },
    {
      "cell_type": "code",
      "source": [
        "# Creating nice lebeled tuples\n",
        "def labeled_tuples(sentences_list, label):\n",
        "    labeled = [(s, label) for s in sentences_list]\n",
        "    return labeled"
      ],
      "metadata": {
        "id": "pl8b8oA5H9i7"
      },
      "execution_count": null,
      "outputs": []
    },
    {
      "cell_type": "code",
      "source": [
        "example = labeled_tuples(['this is nice', 'the food was very good'], 'POS')\n",
        "print(example)"
      ],
      "metadata": {
        "id": "77w9KY_zMzUz"
      },
      "execution_count": null,
      "outputs": []
    },
    {
      "cell_type": "code",
      "source": [
        "def filter_stopw(sentence, stopwords):\n",
        "    words = sentence.split()\n",
        "    words_nostops = list(filter(lambda w: w not in stopwords, words))\n",
        "    words_nostops = [w.lower() for w in words_nostops]\n",
        "    words_filtered = ' '.join(words_nostops)\n",
        "    return words_filtered\n",
        "\n",
        "def remove_stopw(sentences_list, stopwords):\n",
        "    filtered = list([])\n",
        "    for s in sentences_list:\n",
        "        words_nostops = filter_stopw(s, stopwords)\n",
        "        filtered.append(words_nostops)\n",
        "    return filtered"
      ],
      "metadata": {
        "id": "GLL1lfljM8LS"
      },
      "execution_count": null,
      "outputs": []
    },
    {
      "cell_type": "code",
      "source": [
        "example = filter_stopw('this is a test', stopwords)\n",
        "print(example)\n",
        "\n",
        "example = remove_stopw(['this is a test', 'Hola a todos mis amigos', \"Howdy, my name is Jose\"], stopwords)\n",
        "print(example)"
      ],
      "metadata": {
        "id": "V-udaMDLNjDd"
      },
      "execution_count": null,
      "outputs": []
    },
    {
      "cell_type": "markdown",
      "source": [
        "## STAGE 3 Training a Naive Bayes Classifier Model\n",
        "\n"
      ],
      "metadata": {
        "id": "UZWlxse5WWb6"
      }
    },
    {
      "cell_type": "markdown",
      "source": [
        "Bayes' theorem defines a way to compute conditional probabilities.\n",
        "\n",
        "Let $ P(POSITIVE) $ be the prior probability that a user text is positive. $ P(POSITIVE|x) $ would be the posterior probability that the text is positive based on the observation of x.\n",
        "Using this theorem, it is possible to estimate, through many examples, how the probability distributions of each category (classes) are, using the words of a particular class as observations  (variables $x$).\n",
        "\n",
        "$ P(POSITIVE | x) = \\frac{ P(x|POSITIVE) P(POSITIVE) }{ P(x)  } $\n"
      ],
      "metadata": {
        "id": "CNiC_3Ig8UCo"
      }
    },
    {
      "cell_type": "markdown",
      "source": [
        "Because we are classifying documents, the hypothesis is that the document belongs to a class. The evidence is the occurrence of the word W."
      ],
      "metadata": {
        "id": "ZUo-MFZP-1UD"
      }
    },
    {
      "cell_type": "code",
      "source": [
        "positive_train = remove_stopw(positive, stopwords)\n",
        "negative_train = remove_stopw(negative, stopwords)"
      ],
      "metadata": {
        "id": "UFMpT1oEWXUC"
      },
      "execution_count": null,
      "outputs": []
    },
    {
      "cell_type": "code",
      "source": [
        "positive_train"
      ],
      "metadata": {
        "id": "VtsKGbNk_C2U",
        "collapsed": true
      },
      "execution_count": null,
      "outputs": []
    },
    {
      "cell_type": "code",
      "source": [
        "negative_train"
      ],
      "metadata": {
        "id": "AOb_1nLS_JLT",
        "collapsed": true
      },
      "execution_count": null,
      "outputs": []
    },
    {
      "cell_type": "code",
      "source": [
        "positive_train = labeled_tuples(positive_train, 'POS')\n",
        "negative_train = labeled_tuples(negative_train, 'NEG')"
      ],
      "metadata": {
        "id": "uxT2B_9K-vFY"
      },
      "execution_count": null,
      "outputs": []
    },
    {
      "cell_type": "code",
      "source": [
        "negative_train"
      ],
      "metadata": {
        "id": "gMysnCuA-4VZ",
        "collapsed": true
      },
      "execution_count": null,
      "outputs": []
    },
    {
      "cell_type": "code",
      "source": [
        "train = positive_train+negative_train"
      ],
      "metadata": {
        "id": "fAtMFbvv_Psv"
      },
      "execution_count": null,
      "outputs": []
    },
    {
      "cell_type": "code",
      "source": [
        "print(train[:3],'...',train[-3:])"
      ],
      "metadata": {
        "id": "KZehpoRRY8gc"
      },
      "execution_count": null,
      "outputs": []
    },
    {
      "cell_type": "markdown",
      "source": [
        "### Training NaiveBayesClassifier with the data"
      ],
      "metadata": {
        "id": "PALuJU1mBY8A"
      }
    },
    {
      "cell_type": "code",
      "source": [
        "# train the model with the data\n",
        "my_nbclassifier = NaiveBayesClassifier(train)\n",
        "\n",
        "# show the features that the model will use\n",
        "features = my_nbclassifier.informative_features()\n",
        "print('model features: ', features )\n"
      ],
      "metadata": {
        "id": "53FmtHGAY9pE"
      },
      "execution_count": null,
      "outputs": []
    },
    {
      "cell_type": "markdown",
      "source": [
        "### Explore the features"
      ],
      "metadata": {
        "id": "zowdZGzBG-4S"
      }
    },
    {
      "cell_type": "code",
      "source": [
        "# observe the particular features in a particular phrase\n",
        "phrase = 'literally the worst food ever'\n",
        "phrase_features = my_nbclassifier.extract_features(phrase)\n",
        "print('phrase features', phrase_features)\n"
      ],
      "metadata": {
        "id": "HC_abWkrBVcW"
      },
      "execution_count": null,
      "outputs": []
    },
    {
      "cell_type": "code",
      "source": [
        "type(phrase_features)"
      ],
      "metadata": {
        "id": "LY-iNL0j_736"
      },
      "execution_count": null,
      "outputs": []
    },
    {
      "cell_type": "code",
      "source": [
        "for element in phrase_features:\n",
        "  value = phrase_features[element]\n",
        "  if value == True:\n",
        "    print(element,' ',value)"
      ],
      "metadata": {
        "id": "flwOh3cXAPVC"
      },
      "execution_count": null,
      "outputs": []
    },
    {
      "cell_type": "markdown",
      "source": [
        "## Stage 4 Testing"
      ],
      "metadata": {
        "id": "ON-k9iX5cIQs"
      }
    },
    {
      "cell_type": "code",
      "source": [
        "\n",
        "test = [('i love this sandwich', 'POS'),\n",
        "         ('This is an amazing place', 'POS'),\n",
        "         ('i feel very good about these beers', 'POS'),\n",
        "         ('a great touch of frech style', 'POS'),\n",
        "         ('i do not like this restaurant', 'NEG'),\n",
        "         ('horrible restaurant', 'NEG'),\n",
        "         ('i hated  i will never return', 'NEG'),\n",
        "         ('the atmosphere is horrible in this place', 'NEG')]\n",
        "\n",
        "for t, l in test:\n",
        "    prob_dist = my_nbclassifier.prob_classify(t)\n",
        "    prob_pos = round(prob_dist.prob(\"POS\"), 3)\n",
        "    prob_neg = round(prob_dist.prob(\"NEG\"), 3)\n",
        "    print(prob_pos, prob_neg, t, prob_dist.max())\n"
      ],
      "metadata": {
        "id": "5Yyf8ZchZS46"
      },
      "execution_count": null,
      "outputs": []
    },
    {
      "cell_type": "code",
      "source": [
        "# evaluation\n",
        "acc = my_nbclassifier.accuracy(test)\n",
        "print('model accuracy:', acc)\n"
      ],
      "metadata": {
        "id": "uj-bJF8zcR1B"
      },
      "execution_count": null,
      "outputs": []
    },
    {
      "cell_type": "markdown",
      "source": [
        "Read more...\n",
        "\n",
        "https://www.nltk.org/book/ch06.html\n",
        "\n",
        "https://www.adamsmith.haus/python/docs/textblob.classifiers\n",
        "\n"
      ],
      "metadata": {
        "id": "1kUS5vK-IAcg"
      }
    },
    {
      "cell_type": "markdown",
      "source": [
        "## Now it's your turn!!!\n",
        "## Download the Train.csv file and open it\n",
        "## In the label column write a 0 if you think that the text is depression related or write a 1 if you think it is the opposite\n",
        "## Save the labeled file as Train.csv"
      ],
      "metadata": {
        "id": "AH3kxAlz64sY"
      }
    },
    {
      "cell_type": "markdown",
      "source": [
        "## Read the Train.csv file and put it on a DataFrame"
      ],
      "metadata": {
        "id": "Dnw8VlEwERaU"
      }
    },
    {
      "cell_type": "code",
      "source": [
        "df = pd.read_csv('/content/drive/MyDrive/IRAP24/Train.csv',\n",
        "                 sep=',',\n",
        "                 engine='python')\n",
        "texts = df['message'].tolist()\n",
        "classes = df['label'].tolist()\n",
        "texts[0:5]"
      ],
      "metadata": {
        "id": "k5BedONlELVP"
      },
      "execution_count": null,
      "outputs": []
    },
    {
      "cell_type": "code",
      "source": [
        "classes[0:5]"
      ],
      "metadata": {
        "id": "qWFSnfc0Ebxi"
      },
      "execution_count": null,
      "outputs": []
    },
    {
      "cell_type": "code",
      "source": [
        "positive = [t for (i,t) in enumerate(texts) if classes[i]==0]"
      ],
      "metadata": {
        "id": "rHs3zFAYEdGf"
      },
      "execution_count": null,
      "outputs": []
    },
    {
      "cell_type": "code",
      "source": [
        "positive[:5]"
      ],
      "metadata": {
        "id": "iiRILBpKEf6v"
      },
      "execution_count": null,
      "outputs": []
    },
    {
      "cell_type": "code",
      "source": [
        "negative = [t for (i,t) in enumerate(texts) if classes[i]==1]"
      ],
      "metadata": {
        "id": "68IDwZjvEiQP"
      },
      "execution_count": null,
      "outputs": []
    },
    {
      "cell_type": "code",
      "source": [
        "negative[:5]"
      ],
      "metadata": {
        "id": "bFrN5LPpEnBn"
      },
      "execution_count": null,
      "outputs": []
    },
    {
      "cell_type": "markdown",
      "source": [
        "## Training a Naive Bayes Classifier Model"
      ],
      "metadata": {
        "id": "A4nVU6yVFLwY"
      }
    },
    {
      "cell_type": "code",
      "source": [
        "positive_train = remove_stopw(positive, stopwords)\n",
        "negative_train = remove_stopw(negative, stopwords)\n",
        "\n",
        "positive_train = labeled_tuples(positive_train, 'POS')\n",
        "negative_train = labeled_tuples(negative_train, 'NEG')\n",
        "\n",
        "train = positive_train+negative_train"
      ],
      "metadata": {
        "id": "o-qZShLCE3Rw"
      },
      "execution_count": null,
      "outputs": []
    },
    {
      "cell_type": "code",
      "source": [
        "negative_train"
      ],
      "metadata": {
        "id": "bdg4OQ6qFSPb"
      },
      "execution_count": null,
      "outputs": []
    },
    {
      "cell_type": "code",
      "source": [
        "print(train[:3],'...',train[-3:])"
      ],
      "metadata": {
        "id": "qRZG_cTYFe5K"
      },
      "execution_count": null,
      "outputs": []
    },
    {
      "cell_type": "markdown",
      "source": [
        "### Training NaiveBayesClassifier with the data\n"
      ],
      "metadata": {
        "id": "va-TpfToFilX"
      }
    },
    {
      "cell_type": "code",
      "source": [
        "# train the model with the data\n",
        "my_nbclassifier = NaiveBayesClassifier(train)\n",
        "\n",
        "# show the features that the model will use\n",
        "features = my_nbclassifier.informative_features()\n",
        "print('model features: ', features )\n"
      ],
      "metadata": {
        "id": "kzuWh-yfFfsz"
      },
      "execution_count": null,
      "outputs": []
    },
    {
      "cell_type": "markdown",
      "source": [
        "## Testing"
      ],
      "metadata": {
        "id": "3X0n7NMZFuae"
      }
    },
    {
      "cell_type": "markdown",
      "source": [
        "## Read the Test.csv file and put it on a DataFrame. Observe that this dataframe does not have a label column"
      ],
      "metadata": {
        "id": "gJif1FFCBTJE"
      }
    },
    {
      "cell_type": "code",
      "source": [
        "df = pd.read_csv('Test.csv')\n",
        "df.head()"
      ],
      "metadata": {
        "id": "QjSrAOKGtpGt"
      },
      "execution_count": null,
      "outputs": []
    },
    {
      "cell_type": "markdown",
      "source": [
        "## Read the dataframe row by row (line by line) to take the text in the message column and give it to the model to classify it. The model will write the result label (POS or NEG) in the labels list, and finally, the labels list will be added as a new column in the dataframe"
      ],
      "metadata": {
        "id": "hN7LGPGEBdlj"
      }
    },
    {
      "cell_type": "code",
      "source": [
        "labels = [] ##This is a list of lables generated by the model\n",
        "for index, row in df.iterrows():\n",
        "  message = row['message']\n",
        "  prob_dist = my_nbclassifier.prob_classify(message)\n",
        "  prob_pos = round(prob_dist.prob('POS'), 3)\n",
        "  prob_neg = round(prob_dist.prob('NEG'), 3)\n",
        "  labels.append(prob_dist.max())\n",
        "\n",
        "df['labels'] = labels\n",
        "df.head()"
      ],
      "metadata": {
        "id": "_Aso_oupABui"
      },
      "execution_count": null,
      "outputs": []
    },
    {
      "cell_type": "markdown",
      "source": [
        "## Wite the result dataframe in the labeled_texts.csv file. Upload the file in the shared folder in Google Drive"
      ],
      "metadata": {
        "id": "FIHMKHbqCcVE"
      }
    },
    {
      "cell_type": "code",
      "source": [
        "df.to_csv('labeled_texts.csv')"
      ],
      "metadata": {
        "id": "u_D4xsofA9OW"
      },
      "execution_count": null,
      "outputs": []
    },
    {
      "cell_type": "markdown",
      "source": [
        "## Let's try in spanish"
      ],
      "metadata": {
        "id": "wMjx-dltw8oI"
      }
    },
    {
      "cell_type": "code",
      "source": [
        "# import libraries\n",
        "from google.colab import drive\n",
        "import pandas as pd\n",
        "import nltk\n",
        "nltk.download('punkt')\n",
        "from textblob.classifiers import NaiveBayesClassifier"
      ],
      "metadata": {
        "colab": {
          "base_uri": "https://localhost:8080/"
        },
        "id": "M_j4vHjqxNHy",
        "outputId": "61ef7ab3-2ef9-402c-e534-77e9c5818cde"
      },
      "execution_count": 1,
      "outputs": [
        {
          "output_type": "stream",
          "name": "stderr",
          "text": [
            "[nltk_data] Downloading package punkt to /root/nltk_data...\n",
            "[nltk_data]   Unzipping tokenizers/punkt.zip.\n"
          ]
        }
      ]
    },
    {
      "cell_type": "code",
      "source": [
        "# mount the drive\n",
        "drive.mount('/content/drive/')"
      ],
      "metadata": {
        "id": "sECJZR7Xwy8F"
      },
      "execution_count": null,
      "outputs": []
    },
    {
      "cell_type": "code",
      "source": [
        "%cd '/content/drive/MyDrive/CentroGeo/Eventos/IRAP_2024'"
      ],
      "metadata": {
        "id": "afyFf3Cow4Cc"
      },
      "execution_count": null,
      "outputs": []
    },
    {
      "cell_type": "code",
      "source": [
        "df = pd.read_csv('spanish_tweets_train.csv')\n",
        "df.head()"
      ],
      "metadata": {
        "colab": {
          "base_uri": "https://localhost:8080/",
          "height": 206
        },
        "id": "oJ6FHI5RvW6l",
        "outputId": "be056c8b-7698-4377-f26f-6e286774a178"
      },
      "execution_count": 6,
      "outputs": [
        {
          "output_type": "execute_result",
          "data": {
            "text/plain": [
              "   Unnamed: 0                                               Text   Latitude  \\\n",
              "0     7638133  Jajajajaja se pasó la candidata. Ya anda como ...  25.032632   \n",
              "1    11516926  Vacunados y Felices @DrAngelEf #EsposisDoctore...  20.506148   \n",
              "2     5990312  Que emoción te quedó super perros la rolita mi...  20.974213   \n",
              "3      332691  @bonitafeliz100 Buenos días, dios te bendiga h...  15.772467   \n",
              "4      803782  Acaba de publicar una foto en San Francisco de...  19.844600   \n",
              "\n",
              "    Longitude Sentiment  \n",
              "0 -101.166961  positivo  \n",
              "1  -97.682239  positivo  \n",
              "2 -101.448480  positivo  \n",
              "3  -90.224221  positivo  \n",
              "4  -90.536800  positivo  "
            ],
            "text/html": [
              "\n",
              "  <div id=\"df-1706e111-461a-457a-bcd5-49300946dc16\" class=\"colab-df-container\">\n",
              "    <div>\n",
              "<style scoped>\n",
              "    .dataframe tbody tr th:only-of-type {\n",
              "        vertical-align: middle;\n",
              "    }\n",
              "\n",
              "    .dataframe tbody tr th {\n",
              "        vertical-align: top;\n",
              "    }\n",
              "\n",
              "    .dataframe thead th {\n",
              "        text-align: right;\n",
              "    }\n",
              "</style>\n",
              "<table border=\"1\" class=\"dataframe\">\n",
              "  <thead>\n",
              "    <tr style=\"text-align: right;\">\n",
              "      <th></th>\n",
              "      <th>Unnamed: 0</th>\n",
              "      <th>Text</th>\n",
              "      <th>Latitude</th>\n",
              "      <th>Longitude</th>\n",
              "      <th>Sentiment</th>\n",
              "    </tr>\n",
              "  </thead>\n",
              "  <tbody>\n",
              "    <tr>\n",
              "      <th>0</th>\n",
              "      <td>7638133</td>\n",
              "      <td>Jajajajaja se pasó la candidata. Ya anda como ...</td>\n",
              "      <td>25.032632</td>\n",
              "      <td>-101.166961</td>\n",
              "      <td>positivo</td>\n",
              "    </tr>\n",
              "    <tr>\n",
              "      <th>1</th>\n",
              "      <td>11516926</td>\n",
              "      <td>Vacunados y Felices @DrAngelEf #EsposisDoctore...</td>\n",
              "      <td>20.506148</td>\n",
              "      <td>-97.682239</td>\n",
              "      <td>positivo</td>\n",
              "    </tr>\n",
              "    <tr>\n",
              "      <th>2</th>\n",
              "      <td>5990312</td>\n",
              "      <td>Que emoción te quedó super perros la rolita mi...</td>\n",
              "      <td>20.974213</td>\n",
              "      <td>-101.448480</td>\n",
              "      <td>positivo</td>\n",
              "    </tr>\n",
              "    <tr>\n",
              "      <th>3</th>\n",
              "      <td>332691</td>\n",
              "      <td>@bonitafeliz100 Buenos días, dios te bendiga h...</td>\n",
              "      <td>15.772467</td>\n",
              "      <td>-90.224221</td>\n",
              "      <td>positivo</td>\n",
              "    </tr>\n",
              "    <tr>\n",
              "      <th>4</th>\n",
              "      <td>803782</td>\n",
              "      <td>Acaba de publicar una foto en San Francisco de...</td>\n",
              "      <td>19.844600</td>\n",
              "      <td>-90.536800</td>\n",
              "      <td>positivo</td>\n",
              "    </tr>\n",
              "  </tbody>\n",
              "</table>\n",
              "</div>\n",
              "    <div class=\"colab-df-buttons\">\n",
              "\n",
              "  <div class=\"colab-df-container\">\n",
              "    <button class=\"colab-df-convert\" onclick=\"convertToInteractive('df-1706e111-461a-457a-bcd5-49300946dc16')\"\n",
              "            title=\"Convert this dataframe to an interactive table.\"\n",
              "            style=\"display:none;\">\n",
              "\n",
              "  <svg xmlns=\"http://www.w3.org/2000/svg\" height=\"24px\" viewBox=\"0 -960 960 960\">\n",
              "    <path d=\"M120-120v-720h720v720H120Zm60-500h600v-160H180v160Zm220 220h160v-160H400v160Zm0 220h160v-160H400v160ZM180-400h160v-160H180v160Zm440 0h160v-160H620v160ZM180-180h160v-160H180v160Zm440 0h160v-160H620v160Z\"/>\n",
              "  </svg>\n",
              "    </button>\n",
              "\n",
              "  <style>\n",
              "    .colab-df-container {\n",
              "      display:flex;\n",
              "      gap: 12px;\n",
              "    }\n",
              "\n",
              "    .colab-df-convert {\n",
              "      background-color: #E8F0FE;\n",
              "      border: none;\n",
              "      border-radius: 50%;\n",
              "      cursor: pointer;\n",
              "      display: none;\n",
              "      fill: #1967D2;\n",
              "      height: 32px;\n",
              "      padding: 0 0 0 0;\n",
              "      width: 32px;\n",
              "    }\n",
              "\n",
              "    .colab-df-convert:hover {\n",
              "      background-color: #E2EBFA;\n",
              "      box-shadow: 0px 1px 2px rgba(60, 64, 67, 0.3), 0px 1px 3px 1px rgba(60, 64, 67, 0.15);\n",
              "      fill: #174EA6;\n",
              "    }\n",
              "\n",
              "    .colab-df-buttons div {\n",
              "      margin-bottom: 4px;\n",
              "    }\n",
              "\n",
              "    [theme=dark] .colab-df-convert {\n",
              "      background-color: #3B4455;\n",
              "      fill: #D2E3FC;\n",
              "    }\n",
              "\n",
              "    [theme=dark] .colab-df-convert:hover {\n",
              "      background-color: #434B5C;\n",
              "      box-shadow: 0px 1px 3px 1px rgba(0, 0, 0, 0.15);\n",
              "      filter: drop-shadow(0px 1px 2px rgba(0, 0, 0, 0.3));\n",
              "      fill: #FFFFFF;\n",
              "    }\n",
              "  </style>\n",
              "\n",
              "    <script>\n",
              "      const buttonEl =\n",
              "        document.querySelector('#df-1706e111-461a-457a-bcd5-49300946dc16 button.colab-df-convert');\n",
              "      buttonEl.style.display =\n",
              "        google.colab.kernel.accessAllowed ? 'block' : 'none';\n",
              "\n",
              "      async function convertToInteractive(key) {\n",
              "        const element = document.querySelector('#df-1706e111-461a-457a-bcd5-49300946dc16');\n",
              "        const dataTable =\n",
              "          await google.colab.kernel.invokeFunction('convertToInteractive',\n",
              "                                                    [key], {});\n",
              "        if (!dataTable) return;\n",
              "\n",
              "        const docLinkHtml = 'Like what you see? Visit the ' +\n",
              "          '<a target=\"_blank\" href=https://colab.research.google.com/notebooks/data_table.ipynb>data table notebook</a>'\n",
              "          + ' to learn more about interactive tables.';\n",
              "        element.innerHTML = '';\n",
              "        dataTable['output_type'] = 'display_data';\n",
              "        await google.colab.output.renderOutput(dataTable, element);\n",
              "        const docLink = document.createElement('div');\n",
              "        docLink.innerHTML = docLinkHtml;\n",
              "        element.appendChild(docLink);\n",
              "      }\n",
              "    </script>\n",
              "  </div>\n",
              "\n",
              "\n",
              "<div id=\"df-2b954ff2-805d-406a-bab8-2a34631b10d6\">\n",
              "  <button class=\"colab-df-quickchart\" onclick=\"quickchart('df-2b954ff2-805d-406a-bab8-2a34631b10d6')\"\n",
              "            title=\"Suggest charts\"\n",
              "            style=\"display:none;\">\n",
              "\n",
              "<svg xmlns=\"http://www.w3.org/2000/svg\" height=\"24px\"viewBox=\"0 0 24 24\"\n",
              "     width=\"24px\">\n",
              "    <g>\n",
              "        <path d=\"M19 3H5c-1.1 0-2 .9-2 2v14c0 1.1.9 2 2 2h14c1.1 0 2-.9 2-2V5c0-1.1-.9-2-2-2zM9 17H7v-7h2v7zm4 0h-2V7h2v10zm4 0h-2v-4h2v4z\"/>\n",
              "    </g>\n",
              "</svg>\n",
              "  </button>\n",
              "\n",
              "<style>\n",
              "  .colab-df-quickchart {\n",
              "      --bg-color: #E8F0FE;\n",
              "      --fill-color: #1967D2;\n",
              "      --hover-bg-color: #E2EBFA;\n",
              "      --hover-fill-color: #174EA6;\n",
              "      --disabled-fill-color: #AAA;\n",
              "      --disabled-bg-color: #DDD;\n",
              "  }\n",
              "\n",
              "  [theme=dark] .colab-df-quickchart {\n",
              "      --bg-color: #3B4455;\n",
              "      --fill-color: #D2E3FC;\n",
              "      --hover-bg-color: #434B5C;\n",
              "      --hover-fill-color: #FFFFFF;\n",
              "      --disabled-bg-color: #3B4455;\n",
              "      --disabled-fill-color: #666;\n",
              "  }\n",
              "\n",
              "  .colab-df-quickchart {\n",
              "    background-color: var(--bg-color);\n",
              "    border: none;\n",
              "    border-radius: 50%;\n",
              "    cursor: pointer;\n",
              "    display: none;\n",
              "    fill: var(--fill-color);\n",
              "    height: 32px;\n",
              "    padding: 0;\n",
              "    width: 32px;\n",
              "  }\n",
              "\n",
              "  .colab-df-quickchart:hover {\n",
              "    background-color: var(--hover-bg-color);\n",
              "    box-shadow: 0 1px 2px rgba(60, 64, 67, 0.3), 0 1px 3px 1px rgba(60, 64, 67, 0.15);\n",
              "    fill: var(--button-hover-fill-color);\n",
              "  }\n",
              "\n",
              "  .colab-df-quickchart-complete:disabled,\n",
              "  .colab-df-quickchart-complete:disabled:hover {\n",
              "    background-color: var(--disabled-bg-color);\n",
              "    fill: var(--disabled-fill-color);\n",
              "    box-shadow: none;\n",
              "  }\n",
              "\n",
              "  .colab-df-spinner {\n",
              "    border: 2px solid var(--fill-color);\n",
              "    border-color: transparent;\n",
              "    border-bottom-color: var(--fill-color);\n",
              "    animation:\n",
              "      spin 1s steps(1) infinite;\n",
              "  }\n",
              "\n",
              "  @keyframes spin {\n",
              "    0% {\n",
              "      border-color: transparent;\n",
              "      border-bottom-color: var(--fill-color);\n",
              "      border-left-color: var(--fill-color);\n",
              "    }\n",
              "    20% {\n",
              "      border-color: transparent;\n",
              "      border-left-color: var(--fill-color);\n",
              "      border-top-color: var(--fill-color);\n",
              "    }\n",
              "    30% {\n",
              "      border-color: transparent;\n",
              "      border-left-color: var(--fill-color);\n",
              "      border-top-color: var(--fill-color);\n",
              "      border-right-color: var(--fill-color);\n",
              "    }\n",
              "    40% {\n",
              "      border-color: transparent;\n",
              "      border-right-color: var(--fill-color);\n",
              "      border-top-color: var(--fill-color);\n",
              "    }\n",
              "    60% {\n",
              "      border-color: transparent;\n",
              "      border-right-color: var(--fill-color);\n",
              "    }\n",
              "    80% {\n",
              "      border-color: transparent;\n",
              "      border-right-color: var(--fill-color);\n",
              "      border-bottom-color: var(--fill-color);\n",
              "    }\n",
              "    90% {\n",
              "      border-color: transparent;\n",
              "      border-bottom-color: var(--fill-color);\n",
              "    }\n",
              "  }\n",
              "</style>\n",
              "\n",
              "  <script>\n",
              "    async function quickchart(key) {\n",
              "      const quickchartButtonEl =\n",
              "        document.querySelector('#' + key + ' button');\n",
              "      quickchartButtonEl.disabled = true;  // To prevent multiple clicks.\n",
              "      quickchartButtonEl.classList.add('colab-df-spinner');\n",
              "      try {\n",
              "        const charts = await google.colab.kernel.invokeFunction(\n",
              "            'suggestCharts', [key], {});\n",
              "      } catch (error) {\n",
              "        console.error('Error during call to suggestCharts:', error);\n",
              "      }\n",
              "      quickchartButtonEl.classList.remove('colab-df-spinner');\n",
              "      quickchartButtonEl.classList.add('colab-df-quickchart-complete');\n",
              "    }\n",
              "    (() => {\n",
              "      let quickchartButtonEl =\n",
              "        document.querySelector('#df-2b954ff2-805d-406a-bab8-2a34631b10d6 button');\n",
              "      quickchartButtonEl.style.display =\n",
              "        google.colab.kernel.accessAllowed ? 'block' : 'none';\n",
              "    })();\n",
              "  </script>\n",
              "</div>\n",
              "    </div>\n",
              "  </div>\n"
            ],
            "application/vnd.google.colaboratory.intrinsic+json": {
              "type": "dataframe",
              "variable_name": "df"
            }
          },
          "metadata": {},
          "execution_count": 6
        }
      ]
    },
    {
      "cell_type": "code",
      "source": [
        "df['Sentiment'].unique()"
      ],
      "metadata": {
        "id": "vnlrwu6AgPMa"
      },
      "execution_count": null,
      "outputs": []
    },
    {
      "cell_type": "code",
      "source": [
        "df_positivos = df[df.Sentiment == 'positivo']\n",
        "df_positivos = df_positivos.sample(1000)\n",
        "len(df_positivos)"
      ],
      "metadata": {
        "id": "Y8IRosI5gocq"
      },
      "execution_count": null,
      "outputs": []
    },
    {
      "cell_type": "code",
      "source": [
        "df_negativos = df[df.Sentiment == 'negativo']\n",
        "df_negativos = df_negativos.sample(1000)\n",
        "len(df_negativos)"
      ],
      "metadata": {
        "id": "iUHKNvn9hBLe"
      },
      "execution_count": null,
      "outputs": []
    },
    {
      "cell_type": "code",
      "source": [
        "df = pd.concat([df_positivos, df_negativos])\n",
        "len(df)"
      ],
      "metadata": {
        "id": "PJQqQjBZhNQI"
      },
      "execution_count": null,
      "outputs": []
    },
    {
      "cell_type": "markdown",
      "source": [
        "## Change 'positivo' to POS and 'negativo' to NEG"
      ],
      "metadata": {
        "id": "wI86rC7lASFT"
      }
    },
    {
      "cell_type": "code",
      "source": [
        "label = []\n",
        "positives = []\n",
        "negatives = []\n",
        "for index, row in df.iterrows():\n",
        "  sentiment = row['Sentiment']\n",
        "  text = row['Text']\n",
        "  if sentiment == 'positivo':\n",
        "    label.append('POS')\n",
        "    positives.append(text)\n",
        "  else:\n",
        "    label.append('NEG')\n",
        "    negatives.append(text)\n",
        "\n",
        "df['Label'] = label\n",
        "df = df.drop(['Sentiment'], axis=1)\n",
        "df.head()"
      ],
      "metadata": {
        "id": "E0wPyma7vexa"
      },
      "execution_count": null,
      "outputs": []
    },
    {
      "cell_type": "code",
      "source": [
        "df['Label'].unique()"
      ],
      "metadata": {
        "id": "JvS-ht-pEeOq"
      },
      "execution_count": null,
      "outputs": []
    },
    {
      "cell_type": "code",
      "source": [
        "positives[:5]"
      ],
      "metadata": {
        "id": "SMGvsO82ZnWn"
      },
      "execution_count": null,
      "outputs": []
    },
    {
      "cell_type": "code",
      "source": [
        "negatives[:5]"
      ],
      "metadata": {
        "id": "Gsw6rixBavNK"
      },
      "execution_count": null,
      "outputs": []
    },
    {
      "cell_type": "code",
      "source": [
        "with open('spanish_stoplist.txt','r') as f:\n",
        "    lines = f.readlines()\n",
        "    sp_stopwords = [l.strip('\\n') for l in lines]"
      ],
      "metadata": {
        "id": "LhC1rxMJJfRN"
      },
      "execution_count": 21,
      "outputs": []
    },
    {
      "cell_type": "code",
      "source": [
        "# Creating nice lebeled tuples\n",
        "def labeled_tuples(sentences_list, label):\n",
        "    labeled = [(s, label) for s in sentences_list]\n",
        "    return labeled"
      ],
      "metadata": {
        "id": "Qa57iO6piA9m"
      },
      "execution_count": 22,
      "outputs": []
    },
    {
      "cell_type": "code",
      "source": [
        "def filter_sp_stopw(sentence, sp_stopwords):\n",
        "    words = sentence.split()\n",
        "    words_nostops = list(filter(lambda w: w not in sp_stopwords, words))\n",
        "    words_nostops = [w.lower() for w in words_nostops]\n",
        "    words_filtered = ' '.join(words_nostops)\n",
        "    return words_filtered\n",
        "\n",
        "def remove_sp_stopw(sentences_list, sp_stopwords):\n",
        "    filtered = list([])\n",
        "    for s in sentences_list:\n",
        "        words_nostops = filter_sp_stopw(s, sp_stopwords)\n",
        "        filtered.append(words_nostops)\n",
        "    return filtered"
      ],
      "metadata": {
        "id": "jSdR8j89J5-v"
      },
      "execution_count": 26,
      "outputs": []
    },
    {
      "cell_type": "code",
      "source": [
        "positive_train = remove_sp_stopw(positives, sp_stopwords)\n",
        "negative_train = remove_sp_stopw(negatives, sp_stopwords)"
      ],
      "metadata": {
        "id": "ohnJusxIKaR7"
      },
      "execution_count": 27,
      "outputs": []
    },
    {
      "cell_type": "code",
      "source": [
        "positive_train = labeled_tuples(positives, 'POS')\n",
        "negative_train = labeled_tuples(negatives, 'NEG')"
      ],
      "metadata": {
        "id": "iY8NekMxGd20"
      },
      "execution_count": 28,
      "outputs": []
    },
    {
      "cell_type": "code",
      "source": [
        "positive_train[:5]"
      ],
      "metadata": {
        "id": "OzVSdX99cDbR"
      },
      "execution_count": null,
      "outputs": []
    },
    {
      "cell_type": "code",
      "source": [
        "negative_train[:5]"
      ],
      "metadata": {
        "id": "LMhUV1j-cH-N"
      },
      "execution_count": null,
      "outputs": []
    },
    {
      "cell_type": "code",
      "source": [
        "train = positive_train + negative_train\n",
        "len(train)"
      ],
      "metadata": {
        "id": "Pc1WmIPtbQ5o"
      },
      "execution_count": null,
      "outputs": []
    },
    {
      "cell_type": "code",
      "source": [
        "# train the model with the data\n",
        "my_nbclassifier = NaiveBayesClassifier(train)\n",
        "\n",
        "# show the features that the model will use\n",
        "features = my_nbclassifier.informative_features()\n",
        "print('model features: ', features )"
      ],
      "metadata": {
        "id": "2dRQpNm9bQ_c"
      },
      "execution_count": null,
      "outputs": []
    },
    {
      "cell_type": "markdown",
      "source": [
        "## Let's label some texts"
      ],
      "metadata": {
        "id": "7UfX-Nedil3z"
      }
    },
    {
      "cell_type": "code",
      "source": [
        "df_test = pd.read_csv('spanish_tweets_test.csv')\n",
        "df_test.head()"
      ],
      "metadata": {
        "id": "8JjQI-FWimjj"
      },
      "execution_count": null,
      "outputs": []
    },
    {
      "cell_type": "code",
      "source": [
        "len(df_test)"
      ],
      "metadata": {
        "id": "L_I4yLgxjDQs"
      },
      "execution_count": null,
      "outputs": []
    },
    {
      "cell_type": "code",
      "source": [
        "df_test = df_test.sample(1000)"
      ],
      "metadata": {
        "id": "kGm7jZxftl9z"
      },
      "execution_count": 36,
      "outputs": []
    },
    {
      "cell_type": "code",
      "source": [
        "%%time\n",
        "labels = [] ##This is a list of lables generated by the model\n",
        "for index, row in df_test.iterrows():\n",
        "  message = row['Text']\n",
        "  print(index)\n",
        "  prob_dist = my_nbclassifier.prob_classify(message)\n",
        "  prob_pos = round(prob_dist.prob('POS'), 3)\n",
        "  prob_neg = round(prob_dist.prob('NEG'), 3)\n",
        "  labels.append(prob_dist.max())\n",
        "\n",
        "df_test['labels'] = labels"
      ],
      "metadata": {
        "id": "9Jdo9v1FcdKn"
      },
      "execution_count": null,
      "outputs": []
    },
    {
      "cell_type": "code",
      "source": [
        "df_test.head()"
      ],
      "metadata": {
        "id": "KRyiQDJ2jORD"
      },
      "execution_count": null,
      "outputs": []
    },
    {
      "cell_type": "markdown",
      "source": [
        "## Now, let's make the map"
      ],
      "metadata": {
        "id": "LaSqb5xb0MGP"
      }
    },
    {
      "cell_type": "code",
      "source": [
        "df_positives = df_test[df_test.labels=='POS']\n",
        "df_positives.head()"
      ],
      "metadata": {
        "id": "nGCpVVAqxeqt"
      },
      "execution_count": null,
      "outputs": []
    },
    {
      "cell_type": "code",
      "source": [
        "len(df_positives)"
      ],
      "metadata": {
        "id": "EK9PYV-Y0oVo"
      },
      "execution_count": null,
      "outputs": []
    },
    {
      "cell_type": "code",
      "source": [
        "import geopandas as gpd\n",
        "import shapely\n",
        "from shapely import wkt\n",
        "from shapely.geometry import Polygon, Point\n",
        "from google.colab import drive"
      ],
      "metadata": {
        "id": "9ArL9UHO3i7o"
      },
      "execution_count": 41,
      "outputs": []
    },
    {
      "cell_type": "code",
      "source": [
        "# mount the drive\n",
        "drive.mount('/content/drive/')"
      ],
      "metadata": {
        "id": "agdpxChM3o8k"
      },
      "execution_count": null,
      "outputs": []
    },
    {
      "cell_type": "code",
      "source": [
        "%cd '/content/drive/MyDrive/CentroGeo/Eventos/IRAP_2024'"
      ],
      "metadata": {
        "id": "3HVt0G5O4AWl"
      },
      "execution_count": null,
      "outputs": []
    },
    {
      "cell_type": "code",
      "source": [
        "mexico = gpd.read_file('inegi_estatal/INEGI_Estatal_.shp')"
      ],
      "metadata": {
        "id": "Nxx49pbB0stj"
      },
      "execution_count": 102,
      "outputs": []
    },
    {
      "cell_type": "code",
      "source": [
        "mexico.head()"
      ],
      "metadata": {
        "id": "sdZ5Sl5b3qmq"
      },
      "execution_count": null,
      "outputs": []
    },
    {
      "cell_type": "code",
      "source": [
        "mexico.plot()"
      ],
      "metadata": {
        "id": "yOjM1pMo3uDe"
      },
      "execution_count": null,
      "outputs": []
    },
    {
      "cell_type": "code",
      "source": [
        "mexico['NOMBRE'].unique()"
      ],
      "metadata": {
        "id": "swF78Ral7Exo"
      },
      "execution_count": null,
      "outputs": []
    },
    {
      "cell_type": "code",
      "source": [
        "size = len(mexico)\n",
        "size"
      ],
      "metadata": {
        "id": "yZIk6qfO3-q6"
      },
      "execution_count": null,
      "outputs": []
    },
    {
      "cell_type": "code",
      "source": [
        "def give_me_the_estate(lat, lon):\n",
        "    estado = None\n",
        "    point = Point(lon, lat)\n",
        "    for i in range(size):\n",
        "        try:\n",
        "            pol = mexico['geometry'][i]\n",
        "            if pol.contains(point):\n",
        "                estado = mexico['NOMBRE'][i]\n",
        "                print(estado)\n",
        "                break\n",
        "        except:\n",
        "            pass\n",
        "    return estado"
      ],
      "metadata": {
        "id": "RVOJR03T3wdz"
      },
      "execution_count": 107,
      "outputs": []
    },
    {
      "cell_type": "code",
      "source": [
        "lat = 21.1156633\n",
        "lon = -89.766103\n",
        "give_me_the_estate(lat, lon)"
      ],
      "metadata": {
        "id": "8rVIjIaD4Qh0"
      },
      "execution_count": null,
      "outputs": []
    },
    {
      "cell_type": "code",
      "source": [
        "df_positives['Estado'] = df_positives.apply(lambda x: give_me_the_estate(x['Latitude'], x['Longitude']), axis=1)"
      ],
      "metadata": {
        "id": "_jqjWLQO4WoV"
      },
      "execution_count": null,
      "outputs": []
    },
    {
      "cell_type": "code",
      "source": [
        "df_positives.head()"
      ],
      "metadata": {
        "id": "DNyzQDne4e64"
      },
      "execution_count": null,
      "outputs": []
    },
    {
      "cell_type": "code",
      "source": [
        "len(df_positives)"
      ],
      "metadata": {
        "id": "rEwfeaoI4kwO"
      },
      "execution_count": null,
      "outputs": []
    },
    {
      "cell_type": "code",
      "source": [
        "df_positives = df_positives.dropna()\n",
        "len(df_positivos)"
      ],
      "metadata": {
        "id": "FVNdS5FB4qRU"
      },
      "execution_count": null,
      "outputs": []
    },
    {
      "cell_type": "code",
      "source": [
        "def put_state_key(abr_ent):\n",
        "    if abr_ent == 'Aguascalientes':\n",
        "        return 'MX-AGU'\n",
        "    if abr_ent == 'Baja California':\n",
        "        return \"MX-BCN\"\n",
        "    if abr_ent == 'Baja California Sur':\n",
        "        return \"MX-BCS\"\n",
        "    if abr_ent == 'Campeche':\n",
        "        return \"MX-CAM\"\n",
        "    if abr_ent == 'Chiapas':\n",
        "        return \"MX-CHP\"\n",
        "    if abr_ent == 'Chihuahua':\n",
        "        return \"MX-CHH\"\n",
        "    if abr_ent == 'Ciudad de México':\n",
        "        return \"MX-CMX\"\n",
        "    if abr_ent == 'Coahuila de Zaragoza':\n",
        "        return \"MX-COA\"\n",
        "    if abr_ent == 'Colima':\n",
        "        return \"MX-COL\"\n",
        "    if abr_ent == 'Durango':\n",
        "        return \"MX-DUR\"\n",
        "    if abr_ent == 'Guanajuato':\n",
        "        return \"MX-GUA\"\n",
        "    if abr_ent == 'Guerrero':\n",
        "        return \"MX-GRO\"\n",
        "    if abr_ent == 'Hidalgo':\n",
        "        return \"MX-HID\"\n",
        "    if abr_ent == 'Jalisco':\n",
        "        return \"MX-JAL\"\n",
        "    if abr_ent == 'México':\n",
        "        return \"MX-MEX\"\n",
        "    if abr_ent == 'Michoacán de Ocampo':\n",
        "        return \"MX-MIC\"\n",
        "    if abr_ent == 'Morelos':\n",
        "        return \"MX-MOR\"\n",
        "    if abr_ent == 'Nayarit':\n",
        "        return \"MX-NAY\"\n",
        "    if abr_ent == 'Nuevo León':\n",
        "        return \"MX-NLE\"\n",
        "    if abr_ent == 'Oaxaca':\n",
        "        return \"MX-OAX\"\n",
        "    if abr_ent == 'Puebla':\n",
        "        return \"MX-PUE\"\n",
        "    if abr_ent == 'Querétaro':\n",
        "        return \"MX-QUE\"\n",
        "    if abr_ent == 'Quintana Roo':\n",
        "        return \"MX-ROO\"\n",
        "    if abr_ent == 'San Luis Potosí':\n",
        "        return \"MX-SLP\"\n",
        "    if abr_ent == 'Sinaloa':\n",
        "        return \"MX-SIN\"\n",
        "    if abr_ent == 'Sonora':\n",
        "        return \"MX-SON\"\n",
        "    if abr_ent == 'Tabasco':\n",
        "        return \"MX-TAB\"\n",
        "    if abr_ent == 'Tamaulipas':\n",
        "        return \"MX-TAM\"\n",
        "    if abr_ent == 'Tlaxcala':\n",
        "        return \"MX-TLA\"\n",
        "    if abr_ent == 'Veracruz de Ignacio de la Llave':\n",
        "        return \"MX-VER\"\n",
        "    if abr_ent == 'Yucatán':\n",
        "        return \"MX-YUC\"\n",
        "    if abr_ent == 'Zacatecas':\n",
        "        return \"MX-ZAC\""
      ],
      "metadata": {
        "id": "iYSQV8ON4xIv"
      },
      "execution_count": 84,
      "outputs": []
    },
    {
      "cell_type": "code",
      "source": [
        "df_positives['CVE_ESTADO'] = df_positives.apply(lambda x: put_state_key(x['Estado']), axis=1)"
      ],
      "metadata": {
        "id": "iZijr6pQKK9p"
      },
      "execution_count": 85,
      "outputs": []
    },
    {
      "cell_type": "code",
      "source": [
        "df_positives.head()"
      ],
      "metadata": {
        "id": "sH3T5Lb-KRHx"
      },
      "execution_count": null,
      "outputs": []
    },
    {
      "cell_type": "code",
      "source": [
        "df = df_positives.groupby(['CVE_ESTADO']).count()\n",
        "df.head()"
      ],
      "metadata": {
        "id": "ncxTJAp-KZCE"
      },
      "execution_count": null,
      "outputs": []
    },
    {
      "cell_type": "code",
      "source": [
        "df.reset_index(inplace = True)"
      ],
      "metadata": {
        "id": "lvCyRvZuLBLn"
      },
      "execution_count": 88,
      "outputs": []
    },
    {
      "cell_type": "code",
      "source": [
        "df.head()"
      ],
      "metadata": {
        "id": "3-r04oibObnL"
      },
      "execution_count": null,
      "outputs": []
    },
    {
      "cell_type": "code",
      "source": [
        "size = len(df)\n",
        "size"
      ],
      "metadata": {
        "id": "EXWTbIi6LSBN"
      },
      "execution_count": null,
      "outputs": []
    },
    {
      "cell_type": "code",
      "source": [
        "data = \"[ \"\n",
        "data"
      ],
      "metadata": {
        "id": "XPI5BB9ALa0n"
      },
      "execution_count": null,
      "outputs": []
    },
    {
      "cell_type": "code",
      "source": [
        "i = 1\n",
        "for index, row in df.iterrows():\n",
        "  ide = row['CVE_ESTADO']\n",
        "  value = row['Estado']\n",
        "  if i < size:\n",
        "    data += '{ id: \"'+ide+'\", \"value\": '+str(value)+'},'\n",
        "    i = i + 1\n",
        "  else:\n",
        "    data += '{ id: \"'+ide+'\", \"value\": '+str(value)+'} ]'"
      ],
      "metadata": {
        "id": "ktaxefTsLfR4"
      },
      "execution_count": 92,
      "outputs": []
    },
    {
      "cell_type": "code",
      "source": [
        "data"
      ],
      "metadata": {
        "id": "6YjnQ36KLv3D"
      },
      "execution_count": null,
      "outputs": []
    },
    {
      "cell_type": "markdown",
      "source": [
        "## Let's move to the html file"
      ],
      "metadata": {
        "id": "fI3jjyPDOnfp"
      }
    }
  ]
}